{
  "nbformat": 4,
  "nbformat_minor": 0,
  "metadata": {
    "colab": {
      "name": "ДЗ2_Визуализация данных.ipynb",
      "provenance": [],
      "collapsed_sections": []
    },
    "kernelspec": {
      "name": "python3",
      "display_name": "Python 3"
    },
    "language_info": {
      "name": "python"
    }
  },
  "cells": [
    {
      "cell_type": "code",
      "execution_count": null,
      "metadata": {
        "id": "POiFUlND8x_a"
      },
      "outputs": [],
      "source": [
        "import matplotlib.pyplot as plt\n",
        "import pandas as pd\n",
        "import numpy as np\n",
        "import seaborn as sns"
      ]
    },
    {
      "cell_type": "markdown",
      "source": [
        "# Датасет \"Уровень самоубийств\"\n",
        "\n",
        "https://www.kaggle.com/stevenfeng26/improved-suicide-rate-19852016\n",
        "\n",
        "**country** - страна\n",
        "\n",
        "**year** - год\n",
        "\n",
        "**sex** - пол\n",
        "\n",
        "**age** - возраст:\n",
        " * 75+ \n",
        " * 55-74\n",
        " * 35-54\n",
        " * 25-34\n",
        " * 15-24\n",
        " * 5-14\n",
        "\n",
        "**suicides/100k** - количество самоубийств на 100 тысяч населения\n",
        "\n",
        "**HDI** - индекс развития человеческого потенциала по годам \n",
        "\n",
        "**gdp_per_capita** - ВВП на душу населения\n",
        "\n",
        "**generation** - поколение:\n",
        "\n",
        " * G.I. Generation - величайшее поколение (рождены в 1900 - 1927е гг.)\n",
        " * Silent - молчаливые (рождены в 20-40е годы)\n",
        " * Boomers - бумеры (рождены в 40 -60е гг.)\n",
        " * Generation X - поколение Х (рождены в 60-70е гг.)\n",
        " * Millenials - миллениалы (рождены в 80-90е гг.)\n",
        " * Generation Z - поколение Z/зумеры (рождены в 2000е г.)\n",
        "\n",
        "**Region** - регион (для культуры)\n",
        "\n",
        "**Assigned_To_Zone** - назначенная зона (для климата):\n",
        "\n",
        " * I =Temperate - умеренная\n",
        "\n",
        " * II=Mediterranean/subtropical - средиземноморская/тропический пояс\n",
        "\n",
        " * III=Hot Dry - жаркая сухая\n",
        "\n",
        " * IVa=Hot Humid/tropical zone - жаркая влажная/тропический пояс\n",
        "\n",
        " * IVb.Hot - жаркий"
      ],
      "metadata": {
        "id": "VngeWbkd82H7"
      }
    },
    {
      "cell_type": "markdown",
      "source": [
        "# Предварительные изучение и обработка данных"
      ],
      "metadata": {
        "id": "mghPikAtFSzw"
      }
    },
    {
      "cell_type": "code",
      "source": [
        "df = pd.read_csv('final_table.csv')\n",
        "df = df.drop(['Unnamed: 0'], axis=1)\n",
        "df = df.rename(columns = {'suicides/100k pop' : 'suicides_100k', 'HDI for year' : 'HDI', 'Assigned To Zone' : 'Assigned_To_Zone'})\n",
        "df.head()"
      ],
      "metadata": {
        "colab": {
          "base_uri": "https://localhost:8080/",
          "height": 206
        },
        "id": "Q7DfHmEQ_qZn",
        "outputId": "587d786b-cc07-4c0a-ccee-3a9aff45f5b6"
      },
      "execution_count": null,
      "outputs": [
        {
          "output_type": "execute_result",
          "data": {
            "text/html": [
              "\n",
              "  <div id=\"df-7f686944-bf79-4e01-a0c8-79d1bd31f004\">\n",
              "    <div class=\"colab-df-container\">\n",
              "      <div>\n",
              "<style scoped>\n",
              "    .dataframe tbody tr th:only-of-type {\n",
              "        vertical-align: middle;\n",
              "    }\n",
              "\n",
              "    .dataframe tbody tr th {\n",
              "        vertical-align: top;\n",
              "    }\n",
              "\n",
              "    .dataframe thead th {\n",
              "        text-align: right;\n",
              "    }\n",
              "</style>\n",
              "<table border=\"1\" class=\"dataframe\">\n",
              "  <thead>\n",
              "    <tr style=\"text-align: right;\">\n",
              "      <th></th>\n",
              "      <th>country</th>\n",
              "      <th>year</th>\n",
              "      <th>sex</th>\n",
              "      <th>age</th>\n",
              "      <th>suicides_100k</th>\n",
              "      <th>HDI</th>\n",
              "      <th>gdp_per_capita</th>\n",
              "      <th>generation</th>\n",
              "      <th>Region</th>\n",
              "      <th>Assigned_To_Zone</th>\n",
              "    </tr>\n",
              "  </thead>\n",
              "  <tbody>\n",
              "    <tr>\n",
              "      <th>0</th>\n",
              "      <td>Argentina</td>\n",
              "      <td>1985</td>\n",
              "      <td>male</td>\n",
              "      <td>75+ years</td>\n",
              "      <td>55</td>\n",
              "      <td>0.694</td>\n",
              "      <td>3264</td>\n",
              "      <td>G.I. Generation</td>\n",
              "      <td>South/Latin America</td>\n",
              "      <td>II</td>\n",
              "    </tr>\n",
              "    <tr>\n",
              "      <th>1</th>\n",
              "      <td>Argentina</td>\n",
              "      <td>1985</td>\n",
              "      <td>male</td>\n",
              "      <td>55-74 years</td>\n",
              "      <td>24</td>\n",
              "      <td>0.694</td>\n",
              "      <td>3264</td>\n",
              "      <td>G.I. Generation</td>\n",
              "      <td>South/Latin America</td>\n",
              "      <td>II</td>\n",
              "    </tr>\n",
              "    <tr>\n",
              "      <th>2</th>\n",
              "      <td>Argentina</td>\n",
              "      <td>1985</td>\n",
              "      <td>male</td>\n",
              "      <td>35-54 years</td>\n",
              "      <td>12</td>\n",
              "      <td>0.694</td>\n",
              "      <td>3264</td>\n",
              "      <td>Silent</td>\n",
              "      <td>South/Latin America</td>\n",
              "      <td>II</td>\n",
              "    </tr>\n",
              "    <tr>\n",
              "      <th>3</th>\n",
              "      <td>Argentina</td>\n",
              "      <td>1985</td>\n",
              "      <td>female</td>\n",
              "      <td>55-74 years</td>\n",
              "      <td>9</td>\n",
              "      <td>0.694</td>\n",
              "      <td>3264</td>\n",
              "      <td>G.I. Generation</td>\n",
              "      <td>South/Latin America</td>\n",
              "      <td>II</td>\n",
              "    </tr>\n",
              "    <tr>\n",
              "      <th>4</th>\n",
              "      <td>Argentina</td>\n",
              "      <td>1985</td>\n",
              "      <td>male</td>\n",
              "      <td>25-34 years</td>\n",
              "      <td>7</td>\n",
              "      <td>0.694</td>\n",
              "      <td>3264</td>\n",
              "      <td>Boomers</td>\n",
              "      <td>South/Latin America</td>\n",
              "      <td>II</td>\n",
              "    </tr>\n",
              "  </tbody>\n",
              "</table>\n",
              "</div>\n",
              "      <button class=\"colab-df-convert\" onclick=\"convertToInteractive('df-7f686944-bf79-4e01-a0c8-79d1bd31f004')\"\n",
              "              title=\"Convert this dataframe to an interactive table.\"\n",
              "              style=\"display:none;\">\n",
              "        \n",
              "  <svg xmlns=\"http://www.w3.org/2000/svg\" height=\"24px\"viewBox=\"0 0 24 24\"\n",
              "       width=\"24px\">\n",
              "    <path d=\"M0 0h24v24H0V0z\" fill=\"none\"/>\n",
              "    <path d=\"M18.56 5.44l.94 2.06.94-2.06 2.06-.94-2.06-.94-.94-2.06-.94 2.06-2.06.94zm-11 1L8.5 8.5l.94-2.06 2.06-.94-2.06-.94L8.5 2.5l-.94 2.06-2.06.94zm10 10l.94 2.06.94-2.06 2.06-.94-2.06-.94-.94-2.06-.94 2.06-2.06.94z\"/><path d=\"M17.41 7.96l-1.37-1.37c-.4-.4-.92-.59-1.43-.59-.52 0-1.04.2-1.43.59L10.3 9.45l-7.72 7.72c-.78.78-.78 2.05 0 2.83L4 21.41c.39.39.9.59 1.41.59.51 0 1.02-.2 1.41-.59l7.78-7.78 2.81-2.81c.8-.78.8-2.07 0-2.86zM5.41 20L4 18.59l7.72-7.72 1.47 1.35L5.41 20z\"/>\n",
              "  </svg>\n",
              "      </button>\n",
              "      \n",
              "  <style>\n",
              "    .colab-df-container {\n",
              "      display:flex;\n",
              "      flex-wrap:wrap;\n",
              "      gap: 12px;\n",
              "    }\n",
              "\n",
              "    .colab-df-convert {\n",
              "      background-color: #E8F0FE;\n",
              "      border: none;\n",
              "      border-radius: 50%;\n",
              "      cursor: pointer;\n",
              "      display: none;\n",
              "      fill: #1967D2;\n",
              "      height: 32px;\n",
              "      padding: 0 0 0 0;\n",
              "      width: 32px;\n",
              "    }\n",
              "\n",
              "    .colab-df-convert:hover {\n",
              "      background-color: #E2EBFA;\n",
              "      box-shadow: 0px 1px 2px rgba(60, 64, 67, 0.3), 0px 1px 3px 1px rgba(60, 64, 67, 0.15);\n",
              "      fill: #174EA6;\n",
              "    }\n",
              "\n",
              "    [theme=dark] .colab-df-convert {\n",
              "      background-color: #3B4455;\n",
              "      fill: #D2E3FC;\n",
              "    }\n",
              "\n",
              "    [theme=dark] .colab-df-convert:hover {\n",
              "      background-color: #434B5C;\n",
              "      box-shadow: 0px 1px 3px 1px rgba(0, 0, 0, 0.15);\n",
              "      filter: drop-shadow(0px 1px 2px rgba(0, 0, 0, 0.3));\n",
              "      fill: #FFFFFF;\n",
              "    }\n",
              "  </style>\n",
              "\n",
              "      <script>\n",
              "        const buttonEl =\n",
              "          document.querySelector('#df-7f686944-bf79-4e01-a0c8-79d1bd31f004 button.colab-df-convert');\n",
              "        buttonEl.style.display =\n",
              "          google.colab.kernel.accessAllowed ? 'block' : 'none';\n",
              "\n",
              "        async function convertToInteractive(key) {\n",
              "          const element = document.querySelector('#df-7f686944-bf79-4e01-a0c8-79d1bd31f004');\n",
              "          const dataTable =\n",
              "            await google.colab.kernel.invokeFunction('convertToInteractive',\n",
              "                                                     [key], {});\n",
              "          if (!dataTable) return;\n",
              "\n",
              "          const docLinkHtml = 'Like what you see? Visit the ' +\n",
              "            '<a target=\"_blank\" href=https://colab.research.google.com/notebooks/data_table.ipynb>data table notebook</a>'\n",
              "            + ' to learn more about interactive tables.';\n",
              "          element.innerHTML = '';\n",
              "          dataTable['output_type'] = 'display_data';\n",
              "          await google.colab.output.renderOutput(dataTable, element);\n",
              "          const docLink = document.createElement('div');\n",
              "          docLink.innerHTML = docLinkHtml;\n",
              "          element.appendChild(docLink);\n",
              "        }\n",
              "      </script>\n",
              "    </div>\n",
              "  </div>\n",
              "  "
            ],
            "text/plain": [
              "     country  year  ...               Region Assigned_To_Zone\n",
              "0  Argentina  1985  ...  South/Latin America               II\n",
              "1  Argentina  1985  ...  South/Latin America               II\n",
              "2  Argentina  1985  ...  South/Latin America               II\n",
              "3  Argentina  1985  ...  South/Latin America               II\n",
              "4  Argentina  1985  ...  South/Latin America               II\n",
              "\n",
              "[5 rows x 10 columns]"
            ]
          },
          "metadata": {},
          "execution_count": 4
        }
      ]
    },
    {
      "cell_type": "code",
      "source": [
        "df.info()"
      ],
      "metadata": {
        "colab": {
          "base_uri": "https://localhost:8080/"
        },
        "id": "b6bPTpG2D9Fe",
        "outputId": "a1927243-300f-4769-8a6f-0dfff1e4a106"
      },
      "execution_count": null,
      "outputs": [
        {
          "output_type": "stream",
          "name": "stdout",
          "text": [
            "<class 'pandas.core.frame.DataFrame'>\n",
            "RangeIndex: 4224 entries, 0 to 4223\n",
            "Data columns (total 10 columns):\n",
            " #   Column            Non-Null Count  Dtype  \n",
            "---  ------            --------------  -----  \n",
            " 0   country           4224 non-null   object \n",
            " 1   year              4224 non-null   int64  \n",
            " 2   sex               4224 non-null   object \n",
            " 3   age               4224 non-null   object \n",
            " 4   suicides_100k     4224 non-null   int64  \n",
            " 5   HDI               4224 non-null   float64\n",
            " 6   gdp_per_capita    4224 non-null   int64  \n",
            " 7   generation        4224 non-null   object \n",
            " 8   Region            4224 non-null   object \n",
            " 9   Assigned_To_Zone  4224 non-null   object \n",
            "dtypes: float64(1), int64(3), object(6)\n",
            "memory usage: 330.1+ KB\n"
          ]
        }
      ]
    },
    {
      "cell_type": "code",
      "source": [
        "df['age'].unique()"
      ],
      "metadata": {
        "colab": {
          "base_uri": "https://localhost:8080/"
        },
        "id": "2uVvoati8Pzc",
        "outputId": "adb2e806-cc1d-42de-c9be-f22a6e2c6f9b"
      },
      "execution_count": null,
      "outputs": [
        {
          "output_type": "execute_result",
          "data": {
            "text/plain": [
              "array(['75+ years', '55-74 years', '35-54 years', '25-34 years',\n",
              "       '15-24 years', '5-14 years'], dtype=object)"
            ]
          },
          "metadata": {},
          "execution_count": 32
        }
      ]
    },
    {
      "cell_type": "code",
      "source": [
        "df['generation'].unique()"
      ],
      "metadata": {
        "colab": {
          "base_uri": "https://localhost:8080/"
        },
        "id": "GpI8KcRx8qu5",
        "outputId": "d13ea13a-9295-4198-b730-b6d1c6bfbc1d"
      },
      "execution_count": null,
      "outputs": [
        {
          "output_type": "execute_result",
          "data": {
            "text/plain": [
              "array(['G.I. Generation', 'Silent', 'Boomers', 'Generation X',\n",
              "       'Millenials', 'Generation Z'], dtype=object)"
            ]
          },
          "metadata": {},
          "execution_count": 33
        }
      ]
    },
    {
      "cell_type": "code",
      "source": [
        "df['Region'].unique()"
      ],
      "metadata": {
        "colab": {
          "base_uri": "https://localhost:8080/"
        },
        "id": "RI63ang48wfS",
        "outputId": "c00d92c7-58b8-4699-c9c2-4f3f11931ea2"
      },
      "execution_count": null,
      "outputs": [
        {
          "output_type": "execute_result",
          "data": {
            "text/plain": [
              "array(['South/Latin America', 'Europe', 'Asia & Pacific', 'Arab States',\n",
              "       'North America', 'Africa'], dtype=object)"
            ]
          },
          "metadata": {},
          "execution_count": 34
        }
      ]
    },
    {
      "cell_type": "code",
      "source": [
        "df['Assigned_To_Zone'].unique()"
      ],
      "metadata": {
        "colab": {
          "base_uri": "https://localhost:8080/"
        },
        "id": "-vCJh6M38137",
        "outputId": "2046bfbc-badd-4ccd-c4c0-d2c3a8c96acd"
      },
      "execution_count": null,
      "outputs": [
        {
          "output_type": "execute_result",
          "data": {
            "text/plain": [
              "array(['II', 'IVa', 'IVb', 'I'], dtype=object)"
            ]
          },
          "metadata": {},
          "execution_count": 37
        }
      ]
    },
    {
      "cell_type": "code",
      "source": [
        "df['country'].unique()"
      ],
      "metadata": {
        "colab": {
          "base_uri": "https://localhost:8080/"
        },
        "id": "RTkQ7mu58_pQ",
        "outputId": "4847a1e0-d0c1-43df-b336-3a378b43ec9c"
      },
      "execution_count": null,
      "outputs": [
        {
          "output_type": "execute_result",
          "data": {
            "text/plain": [
              "array(['Argentina', 'Armenia', 'Australia', 'Azerbaijan', 'Bahrain',\n",
              "       'Barbados', 'Belize', 'Brazil', 'Bulgaria', 'Canada', 'Chile',\n",
              "       'Cuba', 'Ecuador', 'El Salvador', 'Fiji', 'France', 'Georgia',\n",
              "       'Germany', 'Greece', 'Guatemala', 'Guyana', 'Israel', 'Italy',\n",
              "       'Jamaica', 'Japan', 'Kuwait', 'Mexico', 'New Zealand', 'Nicaragua',\n",
              "       'Oman', 'Panama', 'Paraguay', 'Philippines', 'Portugal', 'Qatar',\n",
              "       'Singapore', 'South Africa', 'Spain', 'Sri Lanka', 'Thailand',\n",
              "       'Turkey', 'United States', 'Uruguay', 'Uzbekistan'], dtype=object)"
            ]
          },
          "metadata": {},
          "execution_count": 38
        }
      ]
    },
    {
      "cell_type": "code",
      "source": [
        "df[['Region', 'country']].groupby(['Region', 'country']).count()"
      ],
      "metadata": {
        "colab": {
          "base_uri": "https://localhost:8080/",
          "height": 1000
        },
        "id": "HZeOx6Mv_g6I",
        "outputId": "24b59414-ecc8-4ad6-a641-5daeee8bf2f7"
      },
      "execution_count": null,
      "outputs": [
        {
          "output_type": "execute_result",
          "data": {
            "text/html": [
              "\n",
              "  <div id=\"df-2208b790-5670-401a-9c2a-d4eccc8f6253\">\n",
              "    <div class=\"colab-df-container\">\n",
              "      <div>\n",
              "<style scoped>\n",
              "    .dataframe tbody tr th:only-of-type {\n",
              "        vertical-align: middle;\n",
              "    }\n",
              "\n",
              "    .dataframe tbody tr th {\n",
              "        vertical-align: top;\n",
              "    }\n",
              "\n",
              "    .dataframe thead th {\n",
              "        text-align: right;\n",
              "    }\n",
              "</style>\n",
              "<table border=\"1\" class=\"dataframe\">\n",
              "  <thead>\n",
              "    <tr style=\"text-align: right;\">\n",
              "      <th></th>\n",
              "      <th></th>\n",
              "    </tr>\n",
              "    <tr>\n",
              "      <th>Region</th>\n",
              "      <th>country</th>\n",
              "    </tr>\n",
              "  </thead>\n",
              "  <tbody>\n",
              "    <tr>\n",
              "      <th>Africa</th>\n",
              "      <th>South Africa</th>\n",
              "    </tr>\n",
              "    <tr>\n",
              "      <th rowspan=\"4\" valign=\"top\">Arab States</th>\n",
              "      <th>Bahrain</th>\n",
              "    </tr>\n",
              "    <tr>\n",
              "      <th>Kuwait</th>\n",
              "    </tr>\n",
              "    <tr>\n",
              "      <th>Oman</th>\n",
              "    </tr>\n",
              "    <tr>\n",
              "      <th>Qatar</th>\n",
              "    </tr>\n",
              "    <tr>\n",
              "      <th rowspan=\"10\" valign=\"top\">Asia &amp; Pacific</th>\n",
              "      <th>Australia</th>\n",
              "    </tr>\n",
              "    <tr>\n",
              "      <th>Azerbaijan</th>\n",
              "    </tr>\n",
              "    <tr>\n",
              "      <th>Fiji</th>\n",
              "    </tr>\n",
              "    <tr>\n",
              "      <th>Japan</th>\n",
              "    </tr>\n",
              "    <tr>\n",
              "      <th>New Zealand</th>\n",
              "    </tr>\n",
              "    <tr>\n",
              "      <th>Philippines</th>\n",
              "    </tr>\n",
              "    <tr>\n",
              "      <th>Singapore</th>\n",
              "    </tr>\n",
              "    <tr>\n",
              "      <th>Sri Lanka</th>\n",
              "    </tr>\n",
              "    <tr>\n",
              "      <th>Thailand</th>\n",
              "    </tr>\n",
              "    <tr>\n",
              "      <th>Uzbekistan</th>\n",
              "    </tr>\n",
              "    <tr>\n",
              "      <th rowspan=\"11\" valign=\"top\">Europe</th>\n",
              "      <th>Armenia</th>\n",
              "    </tr>\n",
              "    <tr>\n",
              "      <th>Bulgaria</th>\n",
              "    </tr>\n",
              "    <tr>\n",
              "      <th>France</th>\n",
              "    </tr>\n",
              "    <tr>\n",
              "      <th>Georgia</th>\n",
              "    </tr>\n",
              "    <tr>\n",
              "      <th>Germany</th>\n",
              "    </tr>\n",
              "    <tr>\n",
              "      <th>Greece</th>\n",
              "    </tr>\n",
              "    <tr>\n",
              "      <th>Israel</th>\n",
              "    </tr>\n",
              "    <tr>\n",
              "      <th>Italy</th>\n",
              "    </tr>\n",
              "    <tr>\n",
              "      <th>Portugal</th>\n",
              "    </tr>\n",
              "    <tr>\n",
              "      <th>Spain</th>\n",
              "    </tr>\n",
              "    <tr>\n",
              "      <th>Turkey</th>\n",
              "    </tr>\n",
              "    <tr>\n",
              "      <th rowspan=\"2\" valign=\"top\">North America</th>\n",
              "      <th>Canada</th>\n",
              "    </tr>\n",
              "    <tr>\n",
              "      <th>United States</th>\n",
              "    </tr>\n",
              "    <tr>\n",
              "      <th rowspan=\"16\" valign=\"top\">South/Latin America</th>\n",
              "      <th>Argentina</th>\n",
              "    </tr>\n",
              "    <tr>\n",
              "      <th>Barbados</th>\n",
              "    </tr>\n",
              "    <tr>\n",
              "      <th>Belize</th>\n",
              "    </tr>\n",
              "    <tr>\n",
              "      <th>Brazil</th>\n",
              "    </tr>\n",
              "    <tr>\n",
              "      <th>Chile</th>\n",
              "    </tr>\n",
              "    <tr>\n",
              "      <th>Cuba</th>\n",
              "    </tr>\n",
              "    <tr>\n",
              "      <th>Ecuador</th>\n",
              "    </tr>\n",
              "    <tr>\n",
              "      <th>El Salvador</th>\n",
              "    </tr>\n",
              "    <tr>\n",
              "      <th>Guatemala</th>\n",
              "    </tr>\n",
              "    <tr>\n",
              "      <th>Guyana</th>\n",
              "    </tr>\n",
              "    <tr>\n",
              "      <th>Jamaica</th>\n",
              "    </tr>\n",
              "    <tr>\n",
              "      <th>Mexico</th>\n",
              "    </tr>\n",
              "    <tr>\n",
              "      <th>Nicaragua</th>\n",
              "    </tr>\n",
              "    <tr>\n",
              "      <th>Panama</th>\n",
              "    </tr>\n",
              "    <tr>\n",
              "      <th>Paraguay</th>\n",
              "    </tr>\n",
              "    <tr>\n",
              "      <th>Uruguay</th>\n",
              "    </tr>\n",
              "  </tbody>\n",
              "</table>\n",
              "</div>\n",
              "      <button class=\"colab-df-convert\" onclick=\"convertToInteractive('df-2208b790-5670-401a-9c2a-d4eccc8f6253')\"\n",
              "              title=\"Convert this dataframe to an interactive table.\"\n",
              "              style=\"display:none;\">\n",
              "        \n",
              "  <svg xmlns=\"http://www.w3.org/2000/svg\" height=\"24px\"viewBox=\"0 0 24 24\"\n",
              "       width=\"24px\">\n",
              "    <path d=\"M0 0h24v24H0V0z\" fill=\"none\"/>\n",
              "    <path d=\"M18.56 5.44l.94 2.06.94-2.06 2.06-.94-2.06-.94-.94-2.06-.94 2.06-2.06.94zm-11 1L8.5 8.5l.94-2.06 2.06-.94-2.06-.94L8.5 2.5l-.94 2.06-2.06.94zm10 10l.94 2.06.94-2.06 2.06-.94-2.06-.94-.94-2.06-.94 2.06-2.06.94z\"/><path d=\"M17.41 7.96l-1.37-1.37c-.4-.4-.92-.59-1.43-.59-.52 0-1.04.2-1.43.59L10.3 9.45l-7.72 7.72c-.78.78-.78 2.05 0 2.83L4 21.41c.39.39.9.59 1.41.59.51 0 1.02-.2 1.41-.59l7.78-7.78 2.81-2.81c.8-.78.8-2.07 0-2.86zM5.41 20L4 18.59l7.72-7.72 1.47 1.35L5.41 20z\"/>\n",
              "  </svg>\n",
              "      </button>\n",
              "      \n",
              "  <style>\n",
              "    .colab-df-container {\n",
              "      display:flex;\n",
              "      flex-wrap:wrap;\n",
              "      gap: 12px;\n",
              "    }\n",
              "\n",
              "    .colab-df-convert {\n",
              "      background-color: #E8F0FE;\n",
              "      border: none;\n",
              "      border-radius: 50%;\n",
              "      cursor: pointer;\n",
              "      display: none;\n",
              "      fill: #1967D2;\n",
              "      height: 32px;\n",
              "      padding: 0 0 0 0;\n",
              "      width: 32px;\n",
              "    }\n",
              "\n",
              "    .colab-df-convert:hover {\n",
              "      background-color: #E2EBFA;\n",
              "      box-shadow: 0px 1px 2px rgba(60, 64, 67, 0.3), 0px 1px 3px 1px rgba(60, 64, 67, 0.15);\n",
              "      fill: #174EA6;\n",
              "    }\n",
              "\n",
              "    [theme=dark] .colab-df-convert {\n",
              "      background-color: #3B4455;\n",
              "      fill: #D2E3FC;\n",
              "    }\n",
              "\n",
              "    [theme=dark] .colab-df-convert:hover {\n",
              "      background-color: #434B5C;\n",
              "      box-shadow: 0px 1px 3px 1px rgba(0, 0, 0, 0.15);\n",
              "      filter: drop-shadow(0px 1px 2px rgba(0, 0, 0, 0.3));\n",
              "      fill: #FFFFFF;\n",
              "    }\n",
              "  </style>\n",
              "\n",
              "      <script>\n",
              "        const buttonEl =\n",
              "          document.querySelector('#df-2208b790-5670-401a-9c2a-d4eccc8f6253 button.colab-df-convert');\n",
              "        buttonEl.style.display =\n",
              "          google.colab.kernel.accessAllowed ? 'block' : 'none';\n",
              "\n",
              "        async function convertToInteractive(key) {\n",
              "          const element = document.querySelector('#df-2208b790-5670-401a-9c2a-d4eccc8f6253');\n",
              "          const dataTable =\n",
              "            await google.colab.kernel.invokeFunction('convertToInteractive',\n",
              "                                                     [key], {});\n",
              "          if (!dataTable) return;\n",
              "\n",
              "          const docLinkHtml = 'Like what you see? Visit the ' +\n",
              "            '<a target=\"_blank\" href=https://colab.research.google.com/notebooks/data_table.ipynb>data table notebook</a>'\n",
              "            + ' to learn more about interactive tables.';\n",
              "          element.innerHTML = '';\n",
              "          dataTable['output_type'] = 'display_data';\n",
              "          await google.colab.output.renderOutput(dataTable, element);\n",
              "          const docLink = document.createElement('div');\n",
              "          docLink.innerHTML = docLinkHtml;\n",
              "          element.appendChild(docLink);\n",
              "        }\n",
              "      </script>\n",
              "    </div>\n",
              "  </div>\n",
              "  "
            ],
            "text/plain": [
              "Empty DataFrame\n",
              "Columns: []\n",
              "Index: [(Africa, South Africa), (Arab States, Bahrain), (Arab States, Kuwait), (Arab States, Oman), (Arab States, Qatar), (Asia & Pacific, Australia), (Asia & Pacific, Azerbaijan), (Asia & Pacific, Fiji), (Asia & Pacific, Japan), (Asia & Pacific, New Zealand), (Asia & Pacific, Philippines), (Asia & Pacific, Singapore), (Asia & Pacific, Sri Lanka), (Asia & Pacific, Thailand), (Asia & Pacific, Uzbekistan), (Europe, Armenia), (Europe, Bulgaria), (Europe, France), (Europe, Georgia), (Europe, Germany), (Europe, Greece), (Europe, Israel), (Europe, Italy), (Europe, Portugal), (Europe, Spain), (Europe, Turkey), (North America, Canada), (North America, United States), (South/Latin America, Argentina), (South/Latin America, Barbados), (South/Latin America, Belize), (South/Latin America, Brazil), (South/Latin America, Chile), (South/Latin America, Cuba), (South/Latin America, Ecuador), (South/Latin America, El Salvador), (South/Latin America, Guatemala), (South/Latin America, Guyana), (South/Latin America, Jamaica), (South/Latin America, Mexico), (South/Latin America, Nicaragua), (South/Latin America, Panama), (South/Latin America, Paraguay), (South/Latin America, Uruguay)]"
            ]
          },
          "metadata": {},
          "execution_count": 5
        }
      ]
    },
    {
      "cell_type": "markdown",
      "source": [
        "Т.к. в данных отсутсвуют много стран, не представляется возможным проводить анализ в разрезе всех регионов. К дальнейшему анализу возьмём только страны Северной и Южной Америки - по ним есть наиболее полная информация."
      ],
      "metadata": {
        "id": "h3SFaN3VDbmK"
      }
    },
    {
      "cell_type": "code",
      "source": [
        "df = df.loc[(df['Region'] == 'North America') | (df['Region'] == 'South/Latin America')]"
      ],
      "metadata": {
        "id": "MMXJc__4D0FP"
      },
      "execution_count": null,
      "outputs": []
    },
    {
      "cell_type": "markdown",
      "source": [
        "# Исследовательский анализ данных"
      ],
      "metadata": {
        "id": "bFiBphxfFju5"
      }
    },
    {
      "cell_type": "markdown",
      "source": [
        "**Динамика случаев суицида**"
      ],
      "metadata": {
        "id": "PPi5tBsynQVO"
      }
    },
    {
      "cell_type": "code",
      "source": [
        "df_suicides_region = df.pivot_table(index = 'year', columns = 'Region', values = 'suicides_100k', aggfunc = 'sum', fill_value = 0)\n",
        "df_suicides_region"
      ],
      "metadata": {
        "colab": {
          "base_uri": "https://localhost:8080/",
          "height": 389
        },
        "id": "5q4aL-c7rYyk",
        "outputId": "eaffc192-18b0-400b-c876-b5e45f15f81b"
      },
      "execution_count": null,
      "outputs": [
        {
          "output_type": "execute_result",
          "data": {
            "text/html": [
              "\n",
              "  <div id=\"df-a264897f-99db-4559-8098-a2e4bbf70d28\">\n",
              "    <div class=\"colab-df-container\">\n",
              "      <div>\n",
              "<style scoped>\n",
              "    .dataframe tbody tr th:only-of-type {\n",
              "        vertical-align: middle;\n",
              "    }\n",
              "\n",
              "    .dataframe tbody tr th {\n",
              "        vertical-align: top;\n",
              "    }\n",
              "\n",
              "    .dataframe thead th {\n",
              "        text-align: right;\n",
              "    }\n",
              "</style>\n",
              "<table border=\"1\" class=\"dataframe\">\n",
              "  <thead>\n",
              "    <tr style=\"text-align: right;\">\n",
              "      <th>Region</th>\n",
              "      <th>North America</th>\n",
              "      <th>South/Latin America</th>\n",
              "    </tr>\n",
              "    <tr>\n",
              "      <th>year</th>\n",
              "      <th></th>\n",
              "      <th></th>\n",
              "    </tr>\n",
              "  </thead>\n",
              "  <tbody>\n",
              "    <tr>\n",
              "      <th>1985</th>\n",
              "      <td>340</td>\n",
              "      <td>717</td>\n",
              "    </tr>\n",
              "    <tr>\n",
              "      <th>1990</th>\n",
              "      <td>340</td>\n",
              "      <td>1118</td>\n",
              "    </tr>\n",
              "    <tr>\n",
              "      <th>1995</th>\n",
              "      <td>325</td>\n",
              "      <td>1611</td>\n",
              "    </tr>\n",
              "    <tr>\n",
              "      <th>2000</th>\n",
              "      <td>274</td>\n",
              "      <td>1406</td>\n",
              "    </tr>\n",
              "    <tr>\n",
              "      <th>2005</th>\n",
              "      <td>268</td>\n",
              "      <td>1576</td>\n",
              "    </tr>\n",
              "    <tr>\n",
              "      <th>2010</th>\n",
              "      <td>277</td>\n",
              "      <td>1690</td>\n",
              "    </tr>\n",
              "    <tr>\n",
              "      <th>2011</th>\n",
              "      <td>275</td>\n",
              "      <td>1518</td>\n",
              "    </tr>\n",
              "    <tr>\n",
              "      <th>2012</th>\n",
              "      <td>282</td>\n",
              "      <td>1678</td>\n",
              "    </tr>\n",
              "    <tr>\n",
              "      <th>2013</th>\n",
              "      <td>287</td>\n",
              "      <td>1576</td>\n",
              "    </tr>\n",
              "    <tr>\n",
              "      <th>2014</th>\n",
              "      <td>166</td>\n",
              "      <td>1255</td>\n",
              "    </tr>\n",
              "  </tbody>\n",
              "</table>\n",
              "</div>\n",
              "      <button class=\"colab-df-convert\" onclick=\"convertToInteractive('df-a264897f-99db-4559-8098-a2e4bbf70d28')\"\n",
              "              title=\"Convert this dataframe to an interactive table.\"\n",
              "              style=\"display:none;\">\n",
              "        \n",
              "  <svg xmlns=\"http://www.w3.org/2000/svg\" height=\"24px\"viewBox=\"0 0 24 24\"\n",
              "       width=\"24px\">\n",
              "    <path d=\"M0 0h24v24H0V0z\" fill=\"none\"/>\n",
              "    <path d=\"M18.56 5.44l.94 2.06.94-2.06 2.06-.94-2.06-.94-.94-2.06-.94 2.06-2.06.94zm-11 1L8.5 8.5l.94-2.06 2.06-.94-2.06-.94L8.5 2.5l-.94 2.06-2.06.94zm10 10l.94 2.06.94-2.06 2.06-.94-2.06-.94-.94-2.06-.94 2.06-2.06.94z\"/><path d=\"M17.41 7.96l-1.37-1.37c-.4-.4-.92-.59-1.43-.59-.52 0-1.04.2-1.43.59L10.3 9.45l-7.72 7.72c-.78.78-.78 2.05 0 2.83L4 21.41c.39.39.9.59 1.41.59.51 0 1.02-.2 1.41-.59l7.78-7.78 2.81-2.81c.8-.78.8-2.07 0-2.86zM5.41 20L4 18.59l7.72-7.72 1.47 1.35L5.41 20z\"/>\n",
              "  </svg>\n",
              "      </button>\n",
              "      \n",
              "  <style>\n",
              "    .colab-df-container {\n",
              "      display:flex;\n",
              "      flex-wrap:wrap;\n",
              "      gap: 12px;\n",
              "    }\n",
              "\n",
              "    .colab-df-convert {\n",
              "      background-color: #E8F0FE;\n",
              "      border: none;\n",
              "      border-radius: 50%;\n",
              "      cursor: pointer;\n",
              "      display: none;\n",
              "      fill: #1967D2;\n",
              "      height: 32px;\n",
              "      padding: 0 0 0 0;\n",
              "      width: 32px;\n",
              "    }\n",
              "\n",
              "    .colab-df-convert:hover {\n",
              "      background-color: #E2EBFA;\n",
              "      box-shadow: 0px 1px 2px rgba(60, 64, 67, 0.3), 0px 1px 3px 1px rgba(60, 64, 67, 0.15);\n",
              "      fill: #174EA6;\n",
              "    }\n",
              "\n",
              "    [theme=dark] .colab-df-convert {\n",
              "      background-color: #3B4455;\n",
              "      fill: #D2E3FC;\n",
              "    }\n",
              "\n",
              "    [theme=dark] .colab-df-convert:hover {\n",
              "      background-color: #434B5C;\n",
              "      box-shadow: 0px 1px 3px 1px rgba(0, 0, 0, 0.15);\n",
              "      filter: drop-shadow(0px 1px 2px rgba(0, 0, 0, 0.3));\n",
              "      fill: #FFFFFF;\n",
              "    }\n",
              "  </style>\n",
              "\n",
              "      <script>\n",
              "        const buttonEl =\n",
              "          document.querySelector('#df-a264897f-99db-4559-8098-a2e4bbf70d28 button.colab-df-convert');\n",
              "        buttonEl.style.display =\n",
              "          google.colab.kernel.accessAllowed ? 'block' : 'none';\n",
              "\n",
              "        async function convertToInteractive(key) {\n",
              "          const element = document.querySelector('#df-a264897f-99db-4559-8098-a2e4bbf70d28');\n",
              "          const dataTable =\n",
              "            await google.colab.kernel.invokeFunction('convertToInteractive',\n",
              "                                                     [key], {});\n",
              "          if (!dataTable) return;\n",
              "\n",
              "          const docLinkHtml = 'Like what you see? Visit the ' +\n",
              "            '<a target=\"_blank\" href=https://colab.research.google.com/notebooks/data_table.ipynb>data table notebook</a>'\n",
              "            + ' to learn more about interactive tables.';\n",
              "          element.innerHTML = '';\n",
              "          dataTable['output_type'] = 'display_data';\n",
              "          await google.colab.output.renderOutput(dataTable, element);\n",
              "          const docLink = document.createElement('div');\n",
              "          docLink.innerHTML = docLinkHtml;\n",
              "          element.appendChild(docLink);\n",
              "        }\n",
              "      </script>\n",
              "    </div>\n",
              "  </div>\n",
              "  "
            ],
            "text/plain": [
              "Region  North America  South/Latin America\n",
              "year                                      \n",
              "1985              340                  717\n",
              "1990              340                 1118\n",
              "1995              325                 1611\n",
              "2000              274                 1406\n",
              "2005              268                 1576\n",
              "2010              277                 1690\n",
              "2011              275                 1518\n",
              "2012              282                 1678\n",
              "2013              287                 1576\n",
              "2014              166                 1255"
            ]
          },
          "metadata": {},
          "execution_count": 119
        }
      ]
    },
    {
      "cell_type": "code",
      "source": [
        "df_suicides_region.plot(kind='area',\n",
        "                        title='Динамика случаев суицида в разрезе регионов', \n",
        "                        xlabel='Год', \n",
        "                        stacked=True,\n",
        "                        ylabel='Количество случаев суицида, шт.')"
      ],
      "metadata": {
        "colab": {
          "base_uri": "https://localhost:8080/",
          "height": 313
        },
        "id": "5ccX30s6FvBa",
        "outputId": "891a3ba0-78d9-4fc5-b51b-373f0417bd7b"
      },
      "execution_count": null,
      "outputs": [
        {
          "output_type": "execute_result",
          "data": {
            "text/plain": [
              "<matplotlib.axes._subplots.AxesSubplot at 0x7f7ae3bfc590>"
            ]
          },
          "metadata": {},
          "execution_count": 142
        },
        {
          "output_type": "display_data",
          "data": {
            "image/png": "[encoded data removed]",
            "text/plain": [
              "<Figure size 432x288 with 1 Axes>"
            ]
          },
          "metadata": {
            "needs_background": "light"
          }
        }
      ]
    },
    {
      "cell_type": "markdown",
      "source": [
        "▶ Количество случаев суицида в Южной Америке в разы больше, чем в Северной.\n",
        "\n",
        "▶ Пики и спады в регионах не совавдают.\n",
        "\n",
        "▶ В Северной Америке динамика случаев суицида размеренная, без пиков и спадов (1 спад). В Южной Америке на протяжении всего периода наблюдается как периоды роста, так и периоды спада количества случаев суицида.\n"
      ],
      "metadata": {
        "id": "zNYYeusVs06J"
      }
    },
    {
      "cell_type": "code",
      "source": [
        "df_suicides_zone = df.pivot_table(index = 'year', columns = 'Assigned_To_Zone', values = 'suicides_100k', aggfunc = 'sum', fill_value = 0)\n",
        "df_suicides_zone"
      ],
      "metadata": {
        "colab": {
          "base_uri": "https://localhost:8080/",
          "height": 394
        },
        "id": "6faP1s8fuKAg",
        "outputId": "45dc0907-e012-4ace-983f-400999d66009"
      },
      "execution_count": null,
      "outputs": [
        {
          "output_type": "execute_result",
          "data": {
            "text/html": [
              "\n",
              "  <div id=\"df-f2a1adac-f152-45b9-be49-ada0ebac9545\">\n",
              "    <div class=\"colab-df-container\">\n",
              "      <div>\n",
              "<style scoped>\n",
              "    .dataframe tbody tr th:only-of-type {\n",
              "        vertical-align: middle;\n",
              "    }\n",
              "\n",
              "    .dataframe tbody tr th {\n",
              "        vertical-align: top;\n",
              "    }\n",
              "\n",
              "    .dataframe thead th {\n",
              "        text-align: right;\n",
              "    }\n",
              "</style>\n",
              "<table border=\"1\" class=\"dataframe\">\n",
              "  <thead>\n",
              "    <tr style=\"text-align: right;\">\n",
              "      <th>Assigned_To_Zone</th>\n",
              "      <th>I</th>\n",
              "      <th>II</th>\n",
              "      <th>IVa</th>\n",
              "      <th>IVb</th>\n",
              "    </tr>\n",
              "    <tr>\n",
              "      <th>year</th>\n",
              "      <th></th>\n",
              "      <th></th>\n",
              "      <th></th>\n",
              "      <th></th>\n",
              "    </tr>\n",
              "  </thead>\n",
              "  <tbody>\n",
              "    <tr>\n",
              "      <th>1985</th>\n",
              "      <td>161</td>\n",
              "      <td>615</td>\n",
              "      <td>120</td>\n",
              "      <td>161</td>\n",
              "    </tr>\n",
              "    <tr>\n",
              "      <th>1990</th>\n",
              "      <td>159</td>\n",
              "      <td>613</td>\n",
              "      <td>333</td>\n",
              "      <td>353</td>\n",
              "    </tr>\n",
              "    <tr>\n",
              "      <th>1995</th>\n",
              "      <td>157</td>\n",
              "      <td>671</td>\n",
              "      <td>418</td>\n",
              "      <td>690</td>\n",
              "    </tr>\n",
              "    <tr>\n",
              "      <th>2000</th>\n",
              "      <td>133</td>\n",
              "      <td>729</td>\n",
              "      <td>374</td>\n",
              "      <td>444</td>\n",
              "    </tr>\n",
              "    <tr>\n",
              "      <th>2005</th>\n",
              "      <td>128</td>\n",
              "      <td>697</td>\n",
              "      <td>348</td>\n",
              "      <td>671</td>\n",
              "    </tr>\n",
              "    <tr>\n",
              "      <th>2010</th>\n",
              "      <td>125</td>\n",
              "      <td>721</td>\n",
              "      <td>390</td>\n",
              "      <td>731</td>\n",
              "    </tr>\n",
              "    <tr>\n",
              "      <th>2011</th>\n",
              "      <td>119</td>\n",
              "      <td>469</td>\n",
              "      <td>533</td>\n",
              "      <td>672</td>\n",
              "    </tr>\n",
              "    <tr>\n",
              "      <th>2012</th>\n",
              "      <td>122</td>\n",
              "      <td>731</td>\n",
              "      <td>425</td>\n",
              "      <td>682</td>\n",
              "    </tr>\n",
              "    <tr>\n",
              "      <th>2013</th>\n",
              "      <td>126</td>\n",
              "      <td>688</td>\n",
              "      <td>402</td>\n",
              "      <td>647</td>\n",
              "    </tr>\n",
              "    <tr>\n",
              "      <th>2014</th>\n",
              "      <td>0</td>\n",
              "      <td>706</td>\n",
              "      <td>418</td>\n",
              "      <td>297</td>\n",
              "    </tr>\n",
              "  </tbody>\n",
              "</table>\n",
              "</div>\n",
              "      <button class=\"colab-df-convert\" onclick=\"convertToInteractive('df-f2a1adac-f152-45b9-be49-ada0ebac9545')\"\n",
              "              title=\"Convert this dataframe to an interactive table.\"\n",
              "              style=\"display:none;\">\n",
              "        \n",
              "  <svg xmlns=\"http://www.w3.org/2000/svg\" height=\"24px\"viewBox=\"0 0 24 24\"\n",
              "       width=\"24px\">\n",
              "    <path d=\"M0 0h24v24H0V0z\" fill=\"none\"/>\n",
              "    <path d=\"M18.56 5.44l.94 2.06.94-2.06 2.06-.94-2.06-.94-.94-2.06-.94 2.06-2.06.94zm-11 1L8.5 8.5l.94-2.06 2.06-.94-2.06-.94L8.5 2.5l-.94 2.06-2.06.94zm10 10l.94 2.06.94-2.06 2.06-.94-2.06-.94-.94-2.06-.94 2.06-2.06.94z\"/><path d=\"M17.41 7.96l-1.37-1.37c-.4-.4-.92-.59-1.43-.59-.52 0-1.04.2-1.43.59L10.3 9.45l-7.72 7.72c-.78.78-.78 2.05 0 2.83L4 21.41c.39.39.9.59 1.41.59.51 0 1.02-.2 1.41-.59l7.78-7.78 2.81-2.81c.8-.78.8-2.07 0-2.86zM5.41 20L4 18.59l7.72-7.72 1.47 1.35L5.41 20z\"/>\n",
              "  </svg>\n",
              "      </button>\n",
              "      \n",
              "  <style>\n",
              "    .colab-df-container {\n",
              "      display:flex;\n",
              "      flex-wrap:wrap;\n",
              "      gap: 12px;\n",
              "    }\n",
              "\n",
              "    .colab-df-convert {\n",
              "      background-color: #E8F0FE;\n",
              "      border: none;\n",
              "      border-radius: 50%;\n",
              "      cursor: pointer;\n",
              "      display: none;\n",
              "      fill: #1967D2;\n",
              "      height: 32px;\n",
              "      padding: 0 0 0 0;\n",
              "      width: 32px;\n",
              "    }\n",
              "\n",
              "    .colab-df-convert:hover {\n",
              "      background-color: #E2EBFA;\n",
              "      box-shadow: 0px 1px 2px rgba(60, 64, 67, 0.3), 0px 1px 3px 1px rgba(60, 64, 67, 0.15);\n",
              "      fill: #174EA6;\n",
              "    }\n",
              "\n",
              "    [theme=dark] .colab-df-convert {\n",
              "      background-color: #3B4455;\n",
              "      fill: #D2E3FC;\n",
              "    }\n",
              "\n",
              "    [theme=dark] .colab-df-convert:hover {\n",
              "      background-color: #434B5C;\n",
              "      box-shadow: 0px 1px 3px 1px rgba(0, 0, 0, 0.15);\n",
              "      filter: drop-shadow(0px 1px 2px rgba(0, 0, 0, 0.3));\n",
              "      fill: #FFFFFF;\n",
              "    }\n",
              "  </style>\n",
              "\n",
              "      <script>\n",
              "        const buttonEl =\n",
              "          document.querySelector('#df-f2a1adac-f152-45b9-be49-ada0ebac9545 button.colab-df-convert');\n",
              "        buttonEl.style.display =\n",
              "          google.colab.kernel.accessAllowed ? 'block' : 'none';\n",
              "\n",
              "        async function convertToInteractive(key) {\n",
              "          const element = document.querySelector('#df-f2a1adac-f152-45b9-be49-ada0ebac9545');\n",
              "          const dataTable =\n",
              "            await google.colab.kernel.invokeFunction('convertToInteractive',\n",
              "                                                     [key], {});\n",
              "          if (!dataTable) return;\n",
              "\n",
              "          const docLinkHtml = 'Like what you see? Visit the ' +\n",
              "            '<a target=\"_blank\" href=https://colab.research.google.com/notebooks/data_table.ipynb>data table notebook</a>'\n",
              "            + ' to learn more about interactive tables.';\n",
              "          element.innerHTML = '';\n",
              "          dataTable['output_type'] = 'display_data';\n",
              "          await google.colab.output.renderOutput(dataTable, element);\n",
              "          const docLink = document.createElement('div');\n",
              "          docLink.innerHTML = docLinkHtml;\n",
              "          element.appendChild(docLink);\n",
              "        }\n",
              "      </script>\n",
              "    </div>\n",
              "  </div>\n",
              "  "
            ],
            "text/plain": [
              "Assigned_To_Zone    I   II  IVa  IVb\n",
              "year                                \n",
              "1985              161  615  120  161\n",
              "1990              159  613  333  353\n",
              "1995              157  671  418  690\n",
              "2000              133  729  374  444\n",
              "2005              128  697  348  671\n",
              "2010              125  721  390  731\n",
              "2011              119  469  533  672\n",
              "2012              122  731  425  682\n",
              "2013              126  688  402  647\n",
              "2014                0  706  418  297"
            ]
          },
          "metadata": {},
          "execution_count": 7
        }
      ]
    },
    {
      "cell_type": "code",
      "source": [
        "df_suicides_zone.plot(kind='area',\n",
        "                      title='Динамика случаев суицида в разрезе назначененой зоны', \n",
        "                      xlabel='Год', \n",
        "                      stacked=True,\n",
        "                      ylabel='Количество случаев суицида, шт.')\n",
        "\n",
        "#plt.xticks(np.arange(min(df['year']), max(df['year'])+1, 5.0)) - задать шаг оси"
      ],
      "metadata": {
        "colab": {
          "base_uri": "https://localhost:8080/",
          "height": 312
        },
        "id": "ZigAo1Kqt_rh",
        "outputId": "8e97bffd-014c-4cd4-a0f9-5d70215f2055"
      },
      "execution_count": null,
      "outputs": [
        {
          "output_type": "execute_result",
          "data": {
            "text/plain": [
              "<matplotlib.axes._subplots.AxesSubplot at 0x7f7ae48ef0d0>"
            ]
          },
          "metadata": {},
          "execution_count": 122
        },
        {
          "output_type": "display_data",
          "data": {
            "image/png": "[encoded data removed]",
            "text/plain": [
              "<Figure size 432x288 with 1 Axes>"
            ]
          },
          "metadata": {
            "needs_background": "light"
          }
        }
      ]
    },
    {
      "cell_type": "markdown",
      "source": [
        "▶ Динамика в разрезе зон отражает картину в разрезе регионов, что логично, ведь оба региона лежат в своих зонах: Северная Амекрика в регионе I, здесь динамика плавная, а в регионах II и IV повторяет динамику Южной Америки.\n",
        "\n",
        "▶ Резкий спад после 2010г. (прорвал) наблюдается во всех зонах Южной Америки, но рост в 1990-1995 гг. наиболее резкий в зоне IVb, также как и спад в 1995-2000. Зона IVb имеет более резкую динамику.  "
      ],
      "metadata": {
        "id": "0mREJ4dg0hvs"
      }
    },
    {
      "cell_type": "code",
      "source": [
        "df_suicides_sex = df.pivot_table(index = 'year', columns = 'sex', values = 'suicides_100k', aggfunc = 'sum', fill_value = 0)\n",
        "df_suicides_sex"
      ],
      "metadata": {
        "colab": {
          "base_uri": "https://localhost:8080/",
          "height": 394
        },
        "id": "R7PBWNJu15p-",
        "outputId": "a3990a31-096f-4d54-fb18-bf6dff19b75f"
      },
      "execution_count": null,
      "outputs": [
        {
          "output_type": "execute_result",
          "data": {
            "text/html": [
              "\n",
              "  <div id=\"df-9e247fe9-1cad-4072-9903-88bce15f49df\">\n",
              "    <div class=\"colab-df-container\">\n",
              "      <div>\n",
              "<style scoped>\n",
              "    .dataframe tbody tr th:only-of-type {\n",
              "        vertical-align: middle;\n",
              "    }\n",
              "\n",
              "    .dataframe tbody tr th {\n",
              "        vertical-align: top;\n",
              "    }\n",
              "\n",
              "    .dataframe thead th {\n",
              "        text-align: right;\n",
              "    }\n",
              "</style>\n",
              "<table border=\"1\" class=\"dataframe\">\n",
              "  <thead>\n",
              "    <tr style=\"text-align: right;\">\n",
              "      <th>sex</th>\n",
              "      <th>female</th>\n",
              "      <th>male</th>\n",
              "    </tr>\n",
              "    <tr>\n",
              "      <th>year</th>\n",
              "      <th></th>\n",
              "      <th></th>\n",
              "    </tr>\n",
              "  </thead>\n",
              "  <tbody>\n",
              "    <tr>\n",
              "      <th>1985</th>\n",
              "      <td>168</td>\n",
              "      <td>889</td>\n",
              "    </tr>\n",
              "    <tr>\n",
              "      <th>1990</th>\n",
              "      <td>263</td>\n",
              "      <td>1195</td>\n",
              "    </tr>\n",
              "    <tr>\n",
              "      <th>1995</th>\n",
              "      <td>357</td>\n",
              "      <td>1579</td>\n",
              "    </tr>\n",
              "    <tr>\n",
              "      <th>2000</th>\n",
              "      <td>268</td>\n",
              "      <td>1412</td>\n",
              "    </tr>\n",
              "    <tr>\n",
              "      <th>2005</th>\n",
              "      <td>321</td>\n",
              "      <td>1523</td>\n",
              "    </tr>\n",
              "    <tr>\n",
              "      <th>2010</th>\n",
              "      <td>334</td>\n",
              "      <td>1633</td>\n",
              "    </tr>\n",
              "    <tr>\n",
              "      <th>2011</th>\n",
              "      <td>297</td>\n",
              "      <td>1496</td>\n",
              "    </tr>\n",
              "    <tr>\n",
              "      <th>2012</th>\n",
              "      <td>335</td>\n",
              "      <td>1625</td>\n",
              "    </tr>\n",
              "    <tr>\n",
              "      <th>2013</th>\n",
              "      <td>311</td>\n",
              "      <td>1552</td>\n",
              "    </tr>\n",
              "    <tr>\n",
              "      <th>2014</th>\n",
              "      <td>244</td>\n",
              "      <td>1177</td>\n",
              "    </tr>\n",
              "  </tbody>\n",
              "</table>\n",
              "</div>\n",
              "      <button class=\"colab-df-convert\" onclick=\"convertToInteractive('df-9e247fe9-1cad-4072-9903-88bce15f49df')\"\n",
              "              title=\"Convert this dataframe to an interactive table.\"\n",
              "              style=\"display:none;\">\n",
              "        \n",
              "  <svg xmlns=\"http://www.w3.org/2000/svg\" height=\"24px\"viewBox=\"0 0 24 24\"\n",
              "       width=\"24px\">\n",
              "    <path d=\"M0 0h24v24H0V0z\" fill=\"none\"/>\n",
              "    <path d=\"M18.56 5.44l.94 2.06.94-2.06 2.06-.94-2.06-.94-.94-2.06-.94 2.06-2.06.94zm-11 1L8.5 8.5l.94-2.06 2.06-.94-2.06-.94L8.5 2.5l-.94 2.06-2.06.94zm10 10l.94 2.06.94-2.06 2.06-.94-2.06-.94-.94-2.06-.94 2.06-2.06.94z\"/><path d=\"M17.41 7.96l-1.37-1.37c-.4-.4-.92-.59-1.43-.59-.52 0-1.04.2-1.43.59L10.3 9.45l-7.72 7.72c-.78.78-.78 2.05 0 2.83L4 21.41c.39.39.9.59 1.41.59.51 0 1.02-.2 1.41-.59l7.78-7.78 2.81-2.81c.8-.78.8-2.07 0-2.86zM5.41 20L4 18.59l7.72-7.72 1.47 1.35L5.41 20z\"/>\n",
              "  </svg>\n",
              "      </button>\n",
              "      \n",
              "  <style>\n",
              "    .colab-df-container {\n",
              "      display:flex;\n",
              "      flex-wrap:wrap;\n",
              "      gap: 12px;\n",
              "    }\n",
              "\n",
              "    .colab-df-convert {\n",
              "      background-color: #E8F0FE;\n",
              "      border: none;\n",
              "      border-radius: 50%;\n",
              "      cursor: pointer;\n",
              "      display: none;\n",
              "      fill: #1967D2;\n",
              "      height: 32px;\n",
              "      padding: 0 0 0 0;\n",
              "      width: 32px;\n",
              "    }\n",
              "\n",
              "    .colab-df-convert:hover {\n",
              "      background-color: #E2EBFA;\n",
              "      box-shadow: 0px 1px 2px rgba(60, 64, 67, 0.3), 0px 1px 3px 1px rgba(60, 64, 67, 0.15);\n",
              "      fill: #174EA6;\n",
              "    }\n",
              "\n",
              "    [theme=dark] .colab-df-convert {\n",
              "      background-color: #3B4455;\n",
              "      fill: #D2E3FC;\n",
              "    }\n",
              "\n",
              "    [theme=dark] .colab-df-convert:hover {\n",
              "      background-color: #434B5C;\n",
              "      box-shadow: 0px 1px 3px 1px rgba(0, 0, 0, 0.15);\n",
              "      filter: drop-shadow(0px 1px 2px rgba(0, 0, 0, 0.3));\n",
              "      fill: #FFFFFF;\n",
              "    }\n",
              "  </style>\n",
              "\n",
              "      <script>\n",
              "        const buttonEl =\n",
              "          document.querySelector('#df-9e247fe9-1cad-4072-9903-88bce15f49df button.colab-df-convert');\n",
              "        buttonEl.style.display =\n",
              "          google.colab.kernel.accessAllowed ? 'block' : 'none';\n",
              "\n",
              "        async function convertToInteractive(key) {\n",
              "          const element = document.querySelector('#df-9e247fe9-1cad-4072-9903-88bce15f49df');\n",
              "          const dataTable =\n",
              "            await google.colab.kernel.invokeFunction('convertToInteractive',\n",
              "                                                     [key], {});\n",
              "          if (!dataTable) return;\n",
              "\n",
              "          const docLinkHtml = 'Like what you see? Visit the ' +\n",
              "            '<a target=\"_blank\" href=https://colab.research.google.com/notebooks/data_table.ipynb>data table notebook</a>'\n",
              "            + ' to learn more about interactive tables.';\n",
              "          element.innerHTML = '';\n",
              "          dataTable['output_type'] = 'display_data';\n",
              "          await google.colab.output.renderOutput(dataTable, element);\n",
              "          const docLink = document.createElement('div');\n",
              "          docLink.innerHTML = docLinkHtml;\n",
              "          element.appendChild(docLink);\n",
              "        }\n",
              "      </script>\n",
              "    </div>\n",
              "  </div>\n",
              "  "
            ],
            "text/plain": [
              "sex   female  male\n",
              "year              \n",
              "1985     168   889\n",
              "1990     263  1195\n",
              "1995     357  1579\n",
              "2000     268  1412\n",
              "2005     321  1523\n",
              "2010     334  1633\n",
              "2011     297  1496\n",
              "2012     335  1625\n",
              "2013     311  1552\n",
              "2014     244  1177"
            ]
          },
          "metadata": {},
          "execution_count": 8
        }
      ]
    },
    {
      "cell_type": "code",
      "source": [
        "df_suicides_sex.plot(title='Динамика случаев суицида в зависимости от пола', \n",
        "                     xlabel='Год', \n",
        "                     ylabel='Количество случаев суицида, шт.')"
      ],
      "metadata": {
        "colab": {
          "base_uri": "https://localhost:8080/",
          "height": 312
        },
        "id": "qAx6Ex432WVO",
        "outputId": "73b88f66-eab7-4e69-b1c5-43158fe8887c"
      },
      "execution_count": null,
      "outputs": [
        {
          "output_type": "execute_result",
          "data": {
            "text/plain": [
              "<matplotlib.axes._subplots.AxesSubplot at 0x7f7ae488bad0>"
            ]
          },
          "metadata": {},
          "execution_count": 124
        },
        {
          "output_type": "display_data",
          "data": {
            "image/png": "[encoded data removed]",
            "text/plain": [
              "<Figure size 432x288 with 1 Axes>"
            ]
          },
          "metadata": {
            "needs_background": "light"
          }
        }
      ]
    },
    {
      "cell_type": "markdown",
      "source": [
        "▶ Динамика случаев суициада среди женщин и мужчин имеет одинаоквый характер: спады и рост происходил одинакого, но среди мужчин случаев суицида значительно больше, рост и падения имеют более крутой наклон."
      ],
      "metadata": {
        "id": "5aWF9eYq3HCn"
      }
    },
    {
      "cell_type": "code",
      "source": [
        "df_suicides_age = df.pivot_table(index = 'year', columns = 'age', values = 'suicides_100k', aggfunc = 'sum', fill_value = 0)\n",
        "df_suicides_age = df_suicides_age[['5-14 years', '15-24 years', '25-34 years', '35-54 years', '55-74 years', '75+ years']]\n",
        "df_suicides_age.plot(kind='bar', stacked=True, title='Изменение возрастной структуры на протяжение исследуемого периода')\n",
        "plt.legend(bbox_to_anchor=(1, 1))"
      ],
      "metadata": {
        "colab": {
          "base_uri": "https://localhost:8080/",
          "height": 330
        },
        "id": "qZL6Mb0DPF0G",
        "outputId": "3f433280-f153-498f-de86-915f1c3c680f"
      },
      "execution_count": null,
      "outputs": [
        {
          "output_type": "execute_result",
          "data": {
            "text/plain": [
              "<matplotlib.legend.Legend at 0x7ff8148d8c10>"
            ]
          },
          "metadata": {},
          "execution_count": 9
        },
        {
          "output_type": "display_data",
          "data": {
            "image/png": "[encoded data removed]",
            "text/plain": [
              "<Figure size 432x288 with 1 Axes>"
            ]
          },
          "metadata": {
            "needs_background": "light"
          }
        }
      ]
    },
    {
      "cell_type": "markdown",
      "source": [
        "▶ На протяжении исследуемого периода соотношение возрастных групп не меняется. (Ожидала, что будет заментный скачок в возрастной группе 15-24, но его не наблюдается)."
      ],
      "metadata": {
        "id": "5Y8-w5-RVvLK"
      }
    },
    {
      "cell_type": "markdown",
      "source": [
        "**Топ суицидов**"
      ],
      "metadata": {
        "id": "448QaXYt5_T2"
      }
    },
    {
      "cell_type": "code",
      "source": [
        "df_top_country = df[['country', 'suicides_100k']].groupby(['country']).sum().sort_values(by='suicides_100k', ascending=False).head(5)\n",
        "\n",
        "df_top_country.plot(kind='bar', \n",
        "                    title='Топ 5 стран по количеству случаев суицида',\n",
        "                    xlabel='Страна',\n",
        "                    ylabel='Количество случаев суицида')\n",
        "\n",
        "for i, val in enumerate(df_top_country.values):\n",
        "    plt.text(i, val, int(val), horizontalalignment='center', verticalalignment='bottom', fontdict={'size':8})"
      ],
      "metadata": {
        "colab": {
          "base_uri": "https://localhost:8080/",
          "height": 353
        },
        "id": "togBZTqH8JXg",
        "outputId": "9c1dd1db-b8f8-4692-adee-d81f6739da03"
      },
      "execution_count": null,
      "outputs": [
        {
          "output_type": "display_data",
          "data": {
            "image/png": "[encoded data removed]",
            "text/plain": [
              "<Figure size 432x288 with 1 Axes>"
            ]
          },
          "metadata": {
            "needs_background": "light"
          }
        }
      ]
    },
    {
      "cell_type": "markdown",
      "source": [
        "▶  Несмотря на то, что в Северной Америке самоубийств в разв меньше, чем в Южной, США на 4ом месте в топ-5 стран по количеству самоубийств."
      ],
      "metadata": {
        "id": "eBGF9GcK9umf"
      }
    },
    {
      "cell_type": "code",
      "source": [
        "# Группируем таблицу так, чтобы 1 наблюдение было количество самоубийств в стране за год\n",
        "df_group = df[['country', 'year', 'suicides_100k', 'HDI', 'gdp_per_capita']].groupby(['country', 'year']) \\\n",
        "              .agg({'suicides_100k': 'sum', 'HDI': 'mean', 'gdp_per_capita':'mean'}).reset_index()\n",
        "              \n",
        "df_top_country = df_top_country.reset_index()\n",
        "\n",
        "sns.boxplot(x=\"country\", y=\"suicides_100k\", data=df_group[df_group['country'].isin(df_top_country['country'])])"
      ],
      "metadata": {
        "id": "CIgn31WNGE-4",
        "colab": {
          "base_uri": "https://localhost:8080/",
          "height": 297
        },
        "outputId": "69648a0a-96bc-4876-c55f-bfaffa579ef7"
      },
      "execution_count": null,
      "outputs": [
        {
          "output_type": "execute_result",
          "data": {
            "text/plain": [
              "<matplotlib.axes._subplots.AxesSubplot at 0x7ff81422ddd0>"
            ]
          },
          "metadata": {},
          "execution_count": 11
        },
        {
          "output_type": "display_data",
          "data": {
            "image/png": "[encoded data removed]",
            "text/plain": [
              "<Figure size 432x288 with 1 Axes>"
            ]
          },
          "metadata": {
            "needs_background": "light"
          }
        }
      ]
    },
    {
      "cell_type": "markdown",
      "source": [
        "▶ Из топ-5 стран по количеству самоубийств выделяется Гайяна - очень большой разброс и медианное  количество самоубийств в год гораздо выше, чем у других стран в топе. Данные по Гайяне можно сказать зашкаливают - минимальное количество самоубийств в Гайяне больше, чем медианное значение США или Чили.\n",
        "\n",
        "▶ На Кубе были 2 года, когда количество самоубийств резко превышало остальные годы. Вероятно это выбросы в данных. Похожая ситуация в Уругвае - есть значение, когда количество самоубийст гораздно ниже привычного минимума. Возможно выброс. \n"
      ],
      "metadata": {
        "id": "uEYhx2res-Ya"
      }
    },
    {
      "cell_type": "markdown",
      "source": [
        "**Взаимосвязи**"
      ],
      "metadata": {
        "id": "zCOicIDXeHz3"
      }
    },
    {
      "cell_type": "code",
      "source": [
        "sns.pairplot(df_group[['suicides_100k', 'HDI', 'gdp_per_capita']])\n",
        "plt.title('Взаимосвязь между количеством самоубийств, ВВП и HDI')"
      ],
      "metadata": {
        "colab": {
          "base_uri": "https://localhost:8080/",
          "height": 568
        },
        "id": "4Fb2kncpnKAO",
        "outputId": "0b1647fd-2292-4e5d-8aff-d4f70c3a7516"
      },
      "execution_count": null,
      "outputs": [
        {
          "output_type": "execute_result",
          "data": {
            "text/plain": [
              "Text(0.5, 1.0, 'Взаимосвязь между количеством самоубийств, ВВП и HDI')"
            ]
          },
          "metadata": {},
          "execution_count": 14
        },
        {
          "output_type": "display_data",
          "data": {
            "image/png": "[encoded data removed]",
            "text/plain": [
              "<Figure size 540x540 with 12 Axes>"
            ]
          },
          "metadata": {
            "needs_background": "light"
          }
        }
      ]
    },
    {
      "cell_type": "markdown",
      "source": [
        "▶ Чем выше ВВП, тем выше индекс человеческого потенциала (HDI).\n",
        "\n",
        "▶ Между HDI и количеством самоубийств не прослеживается взаимосвязи, как и между ВВП и количеством самоубийств. Однако можно заметить, что наибольшее количество самоубийст при низком ВВП, а после 30000 ВВП количество самоубийств держится на одном уровне (напрёд могу сказать, что это Канада и США, проверенно)."
      ],
      "metadata": {
        "id": "mfv_rYr3vXqE"
      }
    },
    {
      "cell_type": "code",
      "source": [
        "sns.histplot(df_group['suicides_100k'])\n",
        "plt.title('Распределение количества самоубийств')"
      ],
      "metadata": {
        "colab": {
          "base_uri": "https://localhost:8080/",
          "height": 314
        },
        "id": "yLUYhddUx3GC",
        "outputId": "7368c549-8301-4438-d5c3-0da74b86e8d1"
      },
      "execution_count": null,
      "outputs": [
        {
          "output_type": "execute_result",
          "data": {
            "text/plain": [
              "Text(0.5, 1.0, 'Распределение количества самоубийств')"
            ]
          },
          "metadata": {},
          "execution_count": 13
        },
        {
          "output_type": "display_data",
          "data": {
            "image/png": "[encoded data removed]",
            "text/plain": [
              "<Figure size 432x288 with 1 Axes>"
            ]
          },
          "metadata": {
            "needs_background": "light"
          }
        }
      ]
    },
    {
      "cell_type": "markdown",
      "source": [
        "▶ Наибольшее значение количества самоубийств по странам в год - 50. Более 200 за год встречается гораздо реже."
      ],
      "metadata": {
        "id": "RCQsQUTcfFKV"
      }
    },
    {
      "cell_type": "code",
      "source": [
        "df_top_country = df_top_country.reset_index()\n",
        "df_country_age = df[(df['country'].isin(df_top_country['country'])&(df['age'] != '5-14 years'))].pivot_table(index = 'country', columns = 'age', values = 'suicides_100k', aggfunc = 'sum', fill_value = 0)\n",
        "df_country_age\n",
        "sns.heatmap(df_country_age)\n",
        "plt.title('Тепловая карта топ-стран и возрастных групп')"
      ],
      "metadata": {
        "id": "OKrM00rdGazs",
        "colab": {
          "base_uri": "https://localhost:8080/",
          "height": 363
        },
        "outputId": "29f48f7b-4f2b-4570-9f2f-e6a520dc6836"
      },
      "execution_count": null,
      "outputs": [
        {
          "output_type": "execute_result",
          "data": {
            "text/plain": [
              "Text(0.5, 1.0, 'Тепловая карта топ-стран и возрастных групп')"
            ]
          },
          "metadata": {},
          "execution_count": 15
        },
        {
          "output_type": "display_data",
          "data": {
            "image/png": "[encoded data removed]",
            "text/plain": [
              "<Figure size 432x288 with 2 Axes>"
            ]
          },
          "metadata": {
            "needs_background": "light"
          }
        }
      ]
    },
    {
      "cell_type": "markdown",
      "source": [
        "▶ На Кубе  и в Уругвае значительная часть самоубийств - это группа 75+ (вероятно эти странны выводят группу  75+ на первое место с структуре самоубийств по возрастам (см.график ниже).\n",
        "\n",
        "▶ В Гайяне тоже уникальная ситуация - здесь преобладают группы от 15 до 54 лет, когда в остальных странах 55-75+. "
      ],
      "metadata": {
        "id": "pj9H-IGA_yVp"
      }
    },
    {
      "cell_type": "markdown",
      "source": [
        "**Струткура самоубийств**"
      ],
      "metadata": {
        "id": "GVjLD2p6RUoI"
      }
    },
    {
      "cell_type": "code",
      "source": [
        "df_age = df[['age', 'suicides_100k']].groupby(['age']).sum().sort_values(by='suicides_100k')\n",
        "df_age.plot(kind='barh', \n",
        "                    title='Количество случаев суицида в разерезе возрастных групп',\n",
        "                    xlabel='Возрастная группа',\n",
        "                    ylabel='Количество случаев суицида')"
      ],
      "metadata": {
        "colab": {
          "base_uri": "https://localhost:8080/",
          "height": 300
        },
        "id": "pgC8Q2GGR2qO",
        "outputId": "47448ac8-d82e-43be-f4d6-13acd3a78303"
      },
      "execution_count": null,
      "outputs": [
        {
          "output_type": "execute_result",
          "data": {
            "text/plain": [
              "<matplotlib.axes._subplots.AxesSubplot at 0x7ff809ee6dd0>"
            ]
          },
          "metadata": {},
          "execution_count": 16
        },
        {
          "output_type": "display_data",
          "data": {
            "image/png": "[encoded data removed]",
            "text/plain": [
              "<Figure size 432x288 with 1 Axes>"
            ]
          },
          "metadata": {
            "needs_background": "light"
          }
        }
      ]
    },
    {
      "cell_type": "markdown",
      "source": [
        "▶ Преобладающая возрастная группа по количеству самоубийств - 75+. Остальные возрастные группы (за исключением 5-14 лет) примерно одинаоквы."
      ],
      "metadata": {
        "id": "KH7bAS4dT1Az"
      }
    },
    {
      "cell_type": "code",
      "source": [
        "!pip install squarify\n",
        "import squarify "
      ],
      "metadata": {
        "colab": {
          "base_uri": "https://localhost:8080/"
        },
        "id": "lA1dMFmNXn9E",
        "outputId": "9ec3a88e-1fb0-4f36-f6b6-0b0cf0f06122"
      },
      "execution_count": null,
      "outputs": [
        {
          "output_type": "stream",
          "name": "stdout",
          "text": [
            "Collecting squarify\n",
            "  Downloading squarify-0.4.3-py3-none-any.whl (4.3 kB)\n",
            "Installing collected packages: squarify\n",
            "Successfully installed squarify-0.4.3\n"
          ]
        }
      ]
    },
    {
      "cell_type": "code",
      "source": [
        "df_generation = df[['generation', 'suicides_100k']].groupby(['generation']).sum()\n",
        "a = df_generation.index.get_level_values(0).tolist()\n",
        "b = list(df_generation['suicides_100k'])\n",
        "squarify.plot(sizes=b, label=a, alpha=1)\n",
        "plt.axis('off')\n",
        "plt.title('Доля поколений в общем количестве самоубийств')\n",
        "\n",
        "# График оказался плохочитаемым. Построен ради инетерса"
      ],
      "metadata": {
        "colab": {
          "base_uri": "https://localhost:8080/",
          "height": 282
        },
        "id": "aUaVwQdVYk14",
        "outputId": "0e7b4a41-433a-46c1-b678-b95ab2b6e475"
      },
      "execution_count": null,
      "outputs": [
        {
          "output_type": "execute_result",
          "data": {
            "text/plain": [
              "Text(0.5, 1.0, 'Доля поколений в общем количестве самоубийств')"
            ]
          },
          "metadata": {},
          "execution_count": 18
        },
        {
          "output_type": "display_data",
          "data": {
            "image/png": "[encoded data removed]",
            "text/plain": [
              "<Figure size 432x288 with 1 Axes>"
            ]
          },
          "metadata": {
            "needs_background": "light"
          }
        }
      ]
    }
  ]
}